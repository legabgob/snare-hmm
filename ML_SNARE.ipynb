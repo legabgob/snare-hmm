{
 "cells": [
  {
   "cell_type": "code",
   "execution_count": 1,
   "metadata": {},
   "outputs": [],
   "source": [
    "# Loading libraries\n",
    "# Data manipulation\n",
    "import numpy as np\n",
    "import pandas as pd\n",
    "\n",
    "# Modeling\n",
    "from sklearn.ensemble import RandomForestClassifier\n",
    "from sklearn.metrics import accuracy_score, confusion_matrix, precision_score, recall_score, f1_score, ConfusionMatrixDisplay\n",
    "from sklearn.model_selection import train_test_split, train_test_split\n",
    "from scipy.stats import randint\n",
    "\n",
    "# Data visualization\n",
    "from sklearn.tree import export_graphviz\n",
    "from IPython.display import Image\n",
    "import graphviz"
   ]
  },
  {
   "cell_type": "code",
   "execution_count": 3,
   "metadata": {},
   "outputs": [
    {
     "name": "stdout",
     "output_type": "stream",
     "text": [
      "<class 'pandas.core.frame.DataFrame'>\n",
      "RangeIndex: 2360 entries, 0 to 2359\n",
      "Data columns (total 5 columns):\n",
      " #   Column            Non-Null Count  Dtype  \n",
      "---  ------            --------------  -----  \n",
      " 0   Unnamed: 0        2360 non-null   int64  \n",
      " 1   Output_AViri_QA0  2360 non-null   float64\n",
      " 2   Output_AViri_QA1  2360 non-null   float64\n",
      " 3   Output_AViri_QA2  2360 non-null   float64\n",
      " 4   Output_AViri_QA3  2360 non-null   float64\n",
      "dtypes: float64(4), int64(1)\n",
      "memory usage: 92.3 KB\n",
      "None\n",
      "Unnamed: 0          0\n",
      "Output_AViri_QA0    0\n",
      "Output_AViri_QA1    0\n",
      "Output_AViri_QA2    0\n",
      "Output_AViri_QA3    0\n",
      "dtype: int64\n"
     ]
    }
   ],
   "source": [
    "null_replace = 0.1\n",
    "data = pd.read_csv('matrix_scoring.csv')\n",
    "print(data.info())  \n",
    "print(data.isna().sum())\n",
    "data = data.fillna(null_replace)\n",
    "# TODO: Convert string family names to integers\n"
   ]
  },
  {
   "cell_type": "code",
   "execution_count": null,
   "metadata": {},
   "outputs": [],
   "source": [
    "# Splitting the data into training and testing sets\n",
    "X = data.drop('family', axis=1)\n",
    "Y = data['family']\n",
    "\n",
    "X_train, X_test, Y_train, Y_test = train_test_split(X, Y, test_size=0.2, random_state=42)"
   ]
  },
  {
   "cell_type": "code",
   "execution_count": null,
   "metadata": {},
   "outputs": [],
   "source": []
  }
 ],
 "metadata": {
  "kernelspec": {
   "display_name": ".venv",
   "language": "python",
   "name": "python3"
  },
  "language_info": {
   "codemirror_mode": {
    "name": "ipython",
    "version": 3
   },
   "file_extension": ".py",
   "mimetype": "text/x-python",
   "name": "python",
   "nbconvert_exporter": "python",
   "pygments_lexer": "ipython3",
   "version": "3.9.6"
  }
 },
 "nbformat": 4,
 "nbformat_minor": 2
}
