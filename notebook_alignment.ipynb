{
 "cells": [
  {
   "cell_type": "code",
   "execution_count": 2,
   "metadata": {},
   "outputs": [],
   "source": [
    "import subprocess\n",
    "import pandas as pd\n",
    "from Bio import SeqIO\n",
    "import numpy as np\n",
    "\n",
    "MSA_files = [\"Qa_MSA.fasta\", \"Qb_MSA.fasta\", \"Qc_MSA.fasta\", \"R_MSA.fasta\"]\n",
    "sequences_files = [\"Qa.fasta\", \"Qb.fasta\", \"Qc.fasta\", \"R.fasta\"]"
   ]
  },
  {
   "cell_type": "code",
   "execution_count": 3,
   "metadata": {},
   "outputs": [],
   "source": [
    "def build_hmm(input_file, output_file):\n",
    "    hmmbuild_command = f\"hmmbuild {output_file} {input_file}\"\n",
    "    subprocess.call(hmmbuild_command, shell=True)\n",
    "    \n",
    "\n",
    "def score_sequence(sequence_file, hmm_file):\n",
    "    evalues = {}\n",
    "    sequences = {}\n",
    "    \n",
    "    result = subprocess.run(['hmmsearch', \"--incE\", \"1000000\", hmm_file, sequence_file], text=True, capture_output=True, check=True)\n",
    "    output = result.stdout\n",
    "    if \"[No targets detected that satisfy reporting thresholds]\" in output:\n",
    "        return [], [], []\n",
    "    lines = output.split(\"E-value\")[3].split(\"Domain annotation for each sequence (and alignments):\")[0].split(\"\\n\")\n",
    "    \n",
    "    lines = lines[2:-3]\n",
    "    evalues = []\n",
    "    scores = []\n",
    "    sequences = []\n",
    "    for line in lines:\n",
    "        evalues.append(float(line.split()[0]))\n",
    "        sequences.append(line.split()[-1])\n",
    "        scores.append(float(line.split()[1]))\n",
    "    return evalues, sequences, scores "
   ]
  },
  {
   "cell_type": "code",
   "execution_count": 4,
   "metadata": {},
   "outputs": [
    {
     "name": "stdout",
     "output_type": "stream",
     "text": [
      "# hmmbuild :: profile HMM construction from multiple sequence alignments\n",
      "# HMMER 3.3.2 (Nov 2020); http://hmmer.org/\n",
      "# Copyright (C) 2020 Howard Hughes Medical Institute.\n",
      "# Freely distributed under the BSD open source license.\n",
      "# - - - - - - - - - - - - - - - - - - - - - - - - - - - - - - - - - - - -\n",
      "# input alignment file:             Qa_MSA.fasta\n",
      "# output HMM file:                  Qa.hmm\n",
      "# - - - - - - - - - - - - - - - - - - - - - - - - - - - - - - - - - - - -\n",
      "\n",
      "# idx name                  nseq  alen  mlen eff_nseq re/pos description\n",
      "#---- -------------------- ----- ----- ----- -------- ------ -----------\n",
      "1     Qa_MSA                5033    54    54    25.58  1.028 \n",
      "\n",
      "# CPU time: 0.06u 0.05s 00:00:00.11 Elapsed: 00:00:00.10\n",
      "# hmmbuild :: profile HMM construction from multiple sequence alignments\n",
      "# HMMER 3.3.2 (Nov 2020); http://hmmer.org/\n",
      "# Copyright (C) 2020 Howard Hughes Medical Institute.\n",
      "# Freely distributed under the BSD open source license.\n",
      "# - - - - - - - - - - - - - - - - - - - - - - - - - - - - - - - - - - - -\n",
      "# input alignment file:             Qb_MSA.fasta\n",
      "# output HMM file:                  Qb.hmm\n",
      "# - - - - - - - - - - - - - - - - - - - - - - - - - - - - - - - - - - - -\n",
      "\n",
      "# idx name                  nseq  alen  mlen eff_nseq re/pos description\n",
      "#---- -------------------- ----- ----- ----- -------- ------ -----------\n",
      "1     Qb_MSA                2330    58    54    97.13  1.028 \n",
      "\n",
      "# CPU time: 0.03u 0.01s 00:00:00.04 Elapsed: 00:00:00.05\n",
      "# hmmbuild :: profile HMM construction from multiple sequence alignments\n",
      "# HMMER 3.3.2 (Nov 2020); http://hmmer.org/\n",
      "# Copyright (C) 2020 Howard Hughes Medical Institute.\n",
      "# Freely distributed under the BSD open source license.\n",
      "# - - - - - - - - - - - - - - - - - - - - - - - - - - - - - - - - - - - -\n",
      "# input alignment file:             Qc_MSA.fasta\n",
      "# output HMM file:                  Qc.hmm\n",
      "# - - - - - - - - - - - - - - - - - - - - - - - - - - - - - - - - - - - -\n",
      "\n",
      "# idx name                  nseq  alen  mlen eff_nseq re/pos description\n",
      "#---- -------------------- ----- ----- ----- -------- ------ -----------\n",
      "1     Qc_MSA                2609    54    54   137.62  1.028 \n",
      "\n",
      "# CPU time: 0.04u 0.00s 00:00:00.04 Elapsed: 00:00:00.05\n",
      "# hmmbuild :: profile HMM construction from multiple sequence alignments\n",
      "# HMMER 3.3.2 (Nov 2020); http://hmmer.org/\n",
      "# Copyright (C) 2020 Howard Hughes Medical Institute.\n",
      "# Freely distributed under the BSD open source license.\n",
      "# - - - - - - - - - - - - - - - - - - - - - - - - - - - - - - - - - - - -\n",
      "# input alignment file:             R_MSA.fasta\n",
      "# output HMM file:                  R.hmm\n",
      "# - - - - - - - - - - - - - - - - - - - - - - - - - - - - - - - - - - - -\n",
      "\n",
      "# idx name                  nseq  alen  mlen eff_nseq re/pos description\n",
      "#---- -------------------- ----- ----- ----- -------- ------ -----------\n",
      "1     R_MSA                 4158    54    54    29.46  1.028 \n",
      "\n",
      "# CPU time: 0.04u 0.00s 00:00:00.04 Elapsed: 00:00:00.05\n"
     ]
    }
   ],
   "source": [
    "HMM_files = []\n",
    "for index, file in enumerate(MSA_files):\n",
    "    name = MSA_files[index].split(\".\")[0].split(\"_\")[0] + \".hmm\"\n",
    "    HMM_files.append(name)\n",
    "    build_hmm(MSA_files[index], name)\n",
    "\n"
   ]
  },
  {
   "cell_type": "code",
   "execution_count": 10,
   "metadata": {},
   "outputs": [],
   "source": [
    "def build_scoring_matrix(sequences_files, MSA_files, HMM_files):\n",
    "    scoring_matrix = {}\n",
    "    scoring_dfs = []\n",
    "    all_labels = []\n",
    "\n",
    "    for hmm_index, hmm_file in enumerate(HMM_files):\n",
    "        scoring_matrix[hmm_file.split(\".\")[0]] = {}\n",
    "        all_evalues = []\n",
    "        all_scores = []\n",
    "        row_names = []\n",
    "        labels = []\n",
    "        lengths = []\n",
    "        for seq_index, seq_file in enumerate(sequences_files):\n",
    "         \n",
    "            evalues, seq_names, scores = score_sequence(seq_file, hmm_file)\n",
    "            all_evalues.extend(evalues)\n",
    "            row_names.extend(seq_names)\n",
    "            all_scores.extend(scores)   \n",
    "            ground_truth = [seq_file.split(\".\")[0]] * len(evalues)\n",
    "            labels.extend(ground_truth)\n",
    "            for single_seq in SeqIO.parse(seq_file, \"fasta\"):\n",
    "                if single_seq.id in row_names:\n",
    "                    lengths.append(len(single_seq.seq))     \n",
    "\n",
    "        scoring_matrix[hmm_file.split(\".\")[0]][\"Evalue\"] = all_evalues\n",
    "        scoring_matrix[hmm_file.split(\".\")[0]][ \" score/length\"] = np.array(all_scores)/np.array(lengths)\n",
    "        scoring_matrix[hmm_file.split(\".\")[0]][\"labels\"] = labels\n",
    "        scoring_matrix[hmm_file.split(\".\")[0]][\"sequences\"] = row_names\n",
    "        \n",
    "    for key, value in scoring_matrix.items():\n",
    "        temp_df = pd.DataFrame(value).set_index('sequences')  # set 'names' as index\n",
    "        temp_df.columns = [f'{col}{key}' for col in temp_df.columns]  # rename columns\n",
    "        scoring_dfs.append(temp_df)\n",
    "    scoring_data_frame = pd.concat(scoring_dfs, axis=1)\n",
    "\n",
    "# replace None values with np.nan\n",
    "    scoring_data_frame = scoring_data_frame.replace({None: np.nan})\n",
    " \n",
    "    column_label_names = [\"labels\"+file.split(\".\")[0] for file in sequences_files]\n",
    "    scoring_data_frame[\"labels\"] = None\n",
    "    scoring_data_frame[\"labels\"] = scoring_data_frame[column_label_names].bfill(axis=1).iloc[:, 0]\n",
    "    scoring_data_frame = scoring_data_frame.drop(column_label_names, axis=1)\n",
    "    return scoring_data_frame\n",
    "\n",
    "MSA_files = [\"Qa_MSA.fasta\", \"Qb_MSA.fasta\", \"Qc_MSA.fasta\", \"R_MSA.fasta\"]\n",
    "sequences_files = [\"Qa.fasta\", \"Qb.fasta\", \"Qc.fasta\", \"R.fasta\"]\n",
    "matrix = build_scoring_matrix(sequences_files, MSA_files, HMM_files)\n",
    "matrix.to_csv('input_ML_Matrix.csv')"
   ]
  },
  {
   "cell_type": "code",
   "execution_count": 27,
   "metadata": {},
   "outputs": [
    {
     "name": "stdout",
     "output_type": "stream",
     "text": [
      "Mean training accuracy for replacement value 0: 1.0\n",
      "Mean test accuracy for replacement value 0: 0.9998582063098191\n",
      "Mean training accuracy for replacement value 0.1: 1.0\n",
      "Mean test accuracy for replacement value 0.1: 0.9998629327661585\n",
      "Mean training accuracy for replacement value 0.2: 1.0\n",
      "Mean test accuracy for replacement value 0.2: 0.9998345740281225\n"
     ]
    }
   ],
   "source": [
    "from sklearn.ensemble import RandomForestClassifier\n",
    "from sklearn.model_selection import RepeatedKFold, cross_val_score\n",
    "from sklearn.impute import SimpleImputer\n",
    "from sklearn.pipeline import make_pipeline\n",
    "from sklearn.model_selection import cross_validate\n",
    "# Load your data\n",
    "# matrix = pd.read_csv('input_ML_Matrix.csv')\n",
    "\n",
    "# Separate features and target\n",
    "X = matrix.drop('labels', axis=1)\n",
    "y = matrix['labels']\n",
    "\n",
    "# Values to replace np.nan with\n",
    "replace_values = [0, 0.1, 0.2, 0.3, 0.4, 0.5, 0.6, 0.7, 0.8, 0.9, 1, 10, 100]\n",
    "\n",
    "# Initialize cross-validation method\n",
    "rkf = RepeatedKFold(n_splits=7, n_repeats=15)\n",
    "v_scores = []\n",
    "tr_scores = []\n",
    "for value in replace_values:\n",
    "    # Create a pipeline that first replaces np.nan values with the current value, then fits the random forest\n",
    "    pipeline = make_pipeline(SimpleImputer(missing_values=np.nan, strategy='constant', fill_value=value), RandomForestClassifier())\n",
    "    \n",
    "    # Perform cross-validation and get both training and test scores\n",
    "    scores = cross_validate(pipeline, X, y, cv=rkf, return_train_score=True)\n",
    "    \n",
    "    # Print the mean training and test scores for this value\n",
    "    print(f'Mean training accuracy for replacement value {value}: {scores[\"train_score\"].mean()}')\n",
    "    print(f'Mean test accuracy for replacement value {value}: {scores[\"test_score\"].mean()}')\n",
    "    v_scores.append(scores['test_score'].mean())\n",
    "    tr_scores.append(scores['train_score'].mean())\n",
    "    "
   ]
  },
  {
   "cell_type": "code",
   "execution_count": 22,
   "metadata": {},
   "outputs": [
    {
     "data": {
      "text/plain": [
       "[<matplotlib.lines.Line2D at 0x7f7d938c83d0>]"
      ]
     },
     "execution_count": 22,
     "metadata": {},
     "output_type": "execute_result"
    },
    {
     "data": {
      "image/png": "[encoded data removed]",
      "text/plain": [
       "<Figure size 640x480 with 1 Axes>"
      ]
     },
     "metadata": {},
     "output_type": "display_data"
    }
   ],
   "source": [
    "import matplotlib.pyplot as plt\n",
    "\n",
    "plt.plot(replace_values, v_scores, label='Validation')\n",
    "plt.plot(replace_values, tr_scores, label='Training')"
   ]
  }
 ],
 "metadata": {
  "kernelspec": {
   "display_name": "Python 3",
   "language": "python",
   "name": "python3"
  },
  "language_info": {
   "codemirror_mode": {
    "name": "ipython",
    "version": 3
   },
   "file_extension": ".py",
   "mimetype": "text/x-python",
   "name": "python",
   "nbconvert_exporter": "python",
   "pygments_lexer": "ipython3",
   "version": "3.10.12"
  }
 },
 "nbformat": 4,
 "nbformat_minor": 2
}
